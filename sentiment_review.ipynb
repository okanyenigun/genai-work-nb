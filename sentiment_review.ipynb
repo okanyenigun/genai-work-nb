{
 "cells": [
  {
   "cell_type": "code",
   "execution_count": 1,
   "metadata": {},
   "outputs": [],
   "source": [
    "import pandas as pd\n",
    "import numpy as np\n",
    "from util_funcs import indexing_1\n",
    "from eval_metrics_foos import *"
   ]
  },
  {
   "cell_type": "code",
   "execution_count": 2,
   "metadata": {},
   "outputs": [
    {
     "data": {
      "text/html": [
       "<div>\n",
       "<style scoped>\n",
       "    .dataframe tbody tr th:only-of-type {\n",
       "        vertical-align: middle;\n",
       "    }\n",
       "\n",
       "    .dataframe tbody tr th {\n",
       "        vertical-align: top;\n",
       "    }\n",
       "\n",
       "    .dataframe thead th {\n",
       "        text-align: right;\n",
       "    }\n",
       "</style>\n",
       "<table border=\"1\" class=\"dataframe\">\n",
       "  <thead>\n",
       "    <tr style=\"text-align: right;\">\n",
       "      <th></th>\n",
       "      <th>id</th>\n",
       "      <th>app</th>\n",
       "      <th>source</th>\n",
       "      <th>title</th>\n",
       "      <th>review</th>\n",
       "      <th>rating</th>\n",
       "      <th>user</th>\n",
       "      <th>date</th>\n",
       "      <th>createdate</th>\n",
       "      <th>deep_translator</th>\n",
       "      <th>...</th>\n",
       "      <th>question</th>\n",
       "      <th>complaint</th>\n",
       "      <th>statement</th>\n",
       "      <th>praise</th>\n",
       "      <th>user interface</th>\n",
       "      <th>design</th>\n",
       "      <th>finance</th>\n",
       "      <th>credit</th>\n",
       "      <th>customer relationship</th>\n",
       "      <th>performance</th>\n",
       "    </tr>\n",
       "  </thead>\n",
       "  <tbody>\n",
       "    <tr>\n",
       "      <th>0</th>\n",
       "      <td>35</td>\n",
       "      <td>ING</td>\n",
       "      <td>google</td>\n",
       "      <td>NaN</td>\n",
       "      <td>Çok Kullanışlı ve anlaşılır bir uygulama ve mü...</td>\n",
       "      <td>5</td>\n",
       "      <td>Vural öz</td>\n",
       "      <td>2023-12-11</td>\n",
       "      <td>2023-12-14</td>\n",
       "      <td>It is a very useful and understandable applica...</td>\n",
       "      <td>...</td>\n",
       "      <td>0.007078</td>\n",
       "      <td>0.000804</td>\n",
       "      <td>0.628283</td>\n",
       "      <td>0.984809</td>\n",
       "      <td>0.879359</td>\n",
       "      <td>0.001819</td>\n",
       "      <td>0.448141</td>\n",
       "      <td>0.335250</td>\n",
       "      <td>0.979935</td>\n",
       "      <td>0.204437</td>\n",
       "    </tr>\n",
       "    <tr>\n",
       "      <th>1</th>\n",
       "      <td>40</td>\n",
       "      <td>ING</td>\n",
       "      <td>google</td>\n",
       "      <td>NaN</td>\n",
       "      <td>12.10.2023 de 5 adet otomatik ödeme talimatı v...</td>\n",
       "      <td>1</td>\n",
       "      <td>Mevlut Yilmaz</td>\n",
       "      <td>2023-12-12</td>\n",
       "      <td>2023-12-14</td>\n",
       "      <td>I gave 5 automatic payment orders on 12.10.202...</td>\n",
       "      <td>...</td>\n",
       "      <td>0.972236</td>\n",
       "      <td>0.927619</td>\n",
       "      <td>0.666440</td>\n",
       "      <td>0.000897</td>\n",
       "      <td>0.813887</td>\n",
       "      <td>0.008926</td>\n",
       "      <td>0.995085</td>\n",
       "      <td>0.701604</td>\n",
       "      <td>0.740115</td>\n",
       "      <td>0.398567</td>\n",
       "    </tr>\n",
       "    <tr>\n",
       "      <th>2</th>\n",
       "      <td>36</td>\n",
       "      <td>ING</td>\n",
       "      <td>google</td>\n",
       "      <td>NaN</td>\n",
       "      <td>Gayet başarılı, kampanyalar artarsa ve kampany...</td>\n",
       "      <td>5</td>\n",
       "      <td>Atakan TANRIVER</td>\n",
       "      <td>2023-12-11</td>\n",
       "      <td>2023-12-14</td>\n",
       "      <td>It is very successful, it would be good if the...</td>\n",
       "      <td>...</td>\n",
       "      <td>0.503769</td>\n",
       "      <td>0.001884</td>\n",
       "      <td>0.395456</td>\n",
       "      <td>0.980226</td>\n",
       "      <td>0.812882</td>\n",
       "      <td>0.180230</td>\n",
       "      <td>0.184196</td>\n",
       "      <td>0.524749</td>\n",
       "      <td>0.574716</td>\n",
       "      <td>0.987284</td>\n",
       "    </tr>\n",
       "    <tr>\n",
       "      <th>3</th>\n",
       "      <td>14</td>\n",
       "      <td>ING</td>\n",
       "      <td>google</td>\n",
       "      <td>NaN</td>\n",
       "      <td>ING MOBİL Uygulaması çok ama çok kötü Kullanım...</td>\n",
       "      <td>1</td>\n",
       "      <td>Mehmet Gungor</td>\n",
       "      <td>2023-11-28</td>\n",
       "      <td>2023-12-14</td>\n",
       "      <td>ING MOBILE Application is very, very bad. It i...</td>\n",
       "      <td>...</td>\n",
       "      <td>0.676765</td>\n",
       "      <td>0.992421</td>\n",
       "      <td>0.696690</td>\n",
       "      <td>0.000450</td>\n",
       "      <td>0.948215</td>\n",
       "      <td>0.127819</td>\n",
       "      <td>0.936973</td>\n",
       "      <td>0.666830</td>\n",
       "      <td>0.530031</td>\n",
       "      <td>0.960343</td>\n",
       "    </tr>\n",
       "    <tr>\n",
       "      <th>4</th>\n",
       "      <td>79</td>\n",
       "      <td>ING</td>\n",
       "      <td>google</td>\n",
       "      <td>NaN</td>\n",
       "      <td>Keşke uygulamayı güncellemeseydiniz kullanamıy...</td>\n",
       "      <td>1</td>\n",
       "      <td>Gamze Arıcan</td>\n",
       "      <td>2023-10-12</td>\n",
       "      <td>2023-12-14</td>\n",
       "      <td>I wish you didn't update the application, I ca...</td>\n",
       "      <td>...</td>\n",
       "      <td>0.723204</td>\n",
       "      <td>0.995303</td>\n",
       "      <td>0.925061</td>\n",
       "      <td>0.036337</td>\n",
       "      <td>0.853893</td>\n",
       "      <td>0.055612</td>\n",
       "      <td>0.499166</td>\n",
       "      <td>0.373095</td>\n",
       "      <td>0.423109</td>\n",
       "      <td>0.116472</td>\n",
       "    </tr>\n",
       "  </tbody>\n",
       "</table>\n",
       "<p>5 rows × 34 columns</p>\n",
       "</div>"
      ],
      "text/plain": [
       "   id  app  source title                                             review  \\\n",
       "0  35  ING  google   NaN  Çok Kullanışlı ve anlaşılır bir uygulama ve mü...   \n",
       "1  40  ING  google   NaN  12.10.2023 de 5 adet otomatik ödeme talimatı v...   \n",
       "2  36  ING  google   NaN  Gayet başarılı, kampanyalar artarsa ve kampany...   \n",
       "3  14  ING  google   NaN  ING MOBİL Uygulaması çok ama çok kötü Kullanım...   \n",
       "4  79  ING  google   NaN  Keşke uygulamayı güncellemeseydiniz kullanamıy...   \n",
       "\n",
       "   rating             user       date createdate  \\\n",
       "0       5         Vural öz 2023-12-11 2023-12-14   \n",
       "1       1    Mevlut Yilmaz 2023-12-12 2023-12-14   \n",
       "2       5  Atakan TANRIVER 2023-12-11 2023-12-14   \n",
       "3       1    Mehmet Gungor 2023-11-28 2023-12-14   \n",
       "4       1     Gamze Arıcan 2023-10-12 2023-12-14   \n",
       "\n",
       "                                     deep_translator  ...  question  \\\n",
       "0  It is a very useful and understandable applica...  ...  0.007078   \n",
       "1  I gave 5 automatic payment orders on 12.10.202...  ...  0.972236   \n",
       "2  It is very successful, it would be good if the...  ...  0.503769   \n",
       "3  ING MOBILE Application is very, very bad. It i...  ...  0.676765   \n",
       "4  I wish you didn't update the application, I ca...  ...  0.723204   \n",
       "\n",
       "   complaint statement    praise user interface    design   finance    credit  \\\n",
       "0   0.000804  0.628283  0.984809       0.879359  0.001819  0.448141  0.335250   \n",
       "1   0.927619  0.666440  0.000897       0.813887  0.008926  0.995085  0.701604   \n",
       "2   0.001884  0.395456  0.980226       0.812882  0.180230  0.184196  0.524749   \n",
       "3   0.992421  0.696690  0.000450       0.948215  0.127819  0.936973  0.666830   \n",
       "4   0.995303  0.925061  0.036337       0.853893  0.055612  0.499166  0.373095   \n",
       "\n",
       "   customer relationship  performance  \n",
       "0               0.979935     0.204437  \n",
       "1               0.740115     0.398567  \n",
       "2               0.574716     0.987284  \n",
       "3               0.530031     0.960343  \n",
       "4               0.423109     0.116472  \n",
       "\n",
       "[5 rows x 34 columns]"
      ]
     },
     "execution_count": 2,
     "metadata": {},
     "output_type": "execute_result"
    }
   ],
   "source": [
    "df = pd.read_excel(\"ing_data_1.xlsx\")\n",
    "df.head()"
   ]
  },
  {
   "cell_type": "code",
   "execution_count": 3,
   "metadata": {},
   "outputs": [
    {
     "data": {
      "text/html": [
       "<div>\n",
       "<style scoped>\n",
       "    .dataframe tbody tr th:only-of-type {\n",
       "        vertical-align: middle;\n",
       "    }\n",
       "\n",
       "    .dataframe tbody tr th {\n",
       "        vertical-align: top;\n",
       "    }\n",
       "\n",
       "    .dataframe thead th {\n",
       "        text-align: right;\n",
       "    }\n",
       "</style>\n",
       "<table border=\"1\" class=\"dataframe\">\n",
       "  <thead>\n",
       "    <tr style=\"text-align: right;\">\n",
       "      <th></th>\n",
       "      <th>id</th>\n",
       "      <th>review</th>\n",
       "      <th>Review Person</th>\n",
       "      <th>USER_RATING</th>\n",
       "    </tr>\n",
       "  </thead>\n",
       "  <tbody>\n",
       "    <tr>\n",
       "      <th>0</th>\n",
       "      <td>6544</td>\n",
       "      <td>En iyi banka uygulaması her işlem en hızlı ing...</td>\n",
       "      <td>OY</td>\n",
       "      <td>5</td>\n",
       "    </tr>\n",
       "    <tr>\n",
       "      <th>1</th>\n",
       "      <td>10932</td>\n",
       "      <td>Siz %30 kazanın vadelide müşterinize %7verin n...</td>\n",
       "      <td>OY</td>\n",
       "      <td>1</td>\n",
       "    </tr>\n",
       "    <tr>\n",
       "      <th>2</th>\n",
       "      <td>700</td>\n",
       "      <td>Her şeyi iyi,hoş ve güzel bir banka fakat, Tur...</td>\n",
       "      <td>OY</td>\n",
       "      <td>4</td>\n",
       "    </tr>\n",
       "    <tr>\n",
       "      <th>3</th>\n",
       "      <td>2349</td>\n",
       "      <td>Nasıl daha kullanışsız ve kötü yaparız uygulam...</td>\n",
       "      <td>OY</td>\n",
       "      <td>1</td>\n",
       "    </tr>\n",
       "    <tr>\n",
       "      <th>4</th>\n",
       "      <td>25521</td>\n",
       "      <td>Günlük para çekim limitim 1.000 tl. bozdur boz...</td>\n",
       "      <td>OY</td>\n",
       "      <td>2</td>\n",
       "    </tr>\n",
       "  </tbody>\n",
       "</table>\n",
       "</div>"
      ],
      "text/plain": [
       "      id                                             review Review Person  \\\n",
       "0   6544  En iyi banka uygulaması her işlem en hızlı ing...            OY   \n",
       "1  10932  Siz %30 kazanın vadelide müşterinize %7verin n...            OY   \n",
       "2    700  Her şeyi iyi,hoş ve güzel bir banka fakat, Tur...            OY   \n",
       "3   2349  Nasıl daha kullanışsız ve kötü yaparız uygulam...            OY   \n",
       "4  25521  Günlük para çekim limitim 1.000 tl. bozdur boz...            OY   \n",
       "\n",
       "   USER_RATING  \n",
       "0            5  \n",
       "1            1  \n",
       "2            4  \n",
       "3            1  \n",
       "4            2  "
      ]
     },
     "execution_count": 3,
     "metadata": {},
     "output_type": "execute_result"
    }
   ],
   "source": [
    "sentiments = pd.read_excel(\"sentiments__.xlsx\")\n",
    "sentiments.head()"
   ]
  },
  {
   "cell_type": "code",
   "execution_count": 4,
   "metadata": {},
   "outputs": [],
   "source": [
    "df = indexing_1(sentiments, df, \"id\", \"Review Person\", \"Reviewer\")\n",
    "df = indexing_1(sentiments, df, \"id\", \"USER_RATING\", \"USER_RATING\")"
   ]
  },
  {
   "cell_type": "code",
   "execution_count": 5,
   "metadata": {},
   "outputs": [],
   "source": [
    "df.to_excel(\"ing_review_w_user_ratings.xlsx\",index=False)"
   ]
  },
  {
   "cell_type": "code",
   "execution_count": null,
   "metadata": {},
   "outputs": [],
   "source": [
    "df_cleaned = df.dropna(subset=[\"USER_RATING\"])\n",
    "df_cleaned.reset_index(inplace=True, drop=True)\n",
    "\n",
    "df_cleaned[\"USER_RATING\"] = df_cleaned[\"USER_RATING\"].astype(int)"
   ]
  },
  {
   "cell_type": "code",
   "execution_count": null,
   "metadata": {},
   "outputs": [],
   "source": [
    "for i in range(1,5):\n",
    "    df_cleaned[f\"c_score_{i}_rounded\"] = (df_cleaned[f\"c_score_{i}\"] / 2).round().astype(int)\n",
    "    df_cleaned[f\"c_score_{i}_rounded\"] = df_cleaned[f\"c_score_{i}_rounded\"].replace(0,1)\n",
    "\n",
    "df_cleaned[f\"Sentiment_Mean_Score_rounded\"] = (df_cleaned[f\"Sentiment_Mean_Score\"] / 2).round().astype(int)\n",
    "df_cleaned[f\"Sentiment_Mean_Score_rounded\"] = df_cleaned[f\"Sentiment_Mean_Score_rounded\"].replace(0,1)"
   ]
  },
  {
   "cell_type": "code",
   "execution_count": null,
   "metadata": {},
   "outputs": [],
   "source": [
    "#df_cleaned.to_excel(\"ing_sentiments_cleaned.xlsx\",index=False)"
   ]
  },
  {
   "cell_type": "code",
   "execution_count": null,
   "metadata": {},
   "outputs": [],
   "source": [
    "y_true = df_cleaned[\"USER_RATING\"]"
   ]
  },
  {
   "cell_type": "code",
   "execution_count": null,
   "metadata": {},
   "outputs": [],
   "source": [
    "def classification_metrics(y_true, y_pred):\n",
    "    conf_matrix = confusion_matrix(y_true, y_pred)\n",
    "\n",
    "    accuracy = accuracy_score(y_true, y_pred)\n",
    "\n",
    "    precision_macro = precision_score(y_true, y_pred, average='macro')\n",
    "    recall_macro = recall_score(y_true, y_pred, average='macro')\n",
    "    f1_score_macro = f1_score(y_true, y_pred, average='macro')\n",
    "\n",
    "    precision_micro = precision_score(y_true, y_pred, average='micro')\n",
    "    recall_micro = recall_score(y_true, y_pred, average='micro')\n",
    "    f1_score_micro = f1_score(y_true, y_pred, average='micro')\n",
    "\n",
    "    print(\"confusion: \\n\", conf_matrix)\n",
    "    print(\"accuracy: \", accuracy)\n",
    "    print(\"precision_macro: \", precision_macro)\n",
    "    print(\"recall_macro: \", recall_macro)\n",
    "    print(\"f1_score_macro: \", f1_score_macro)\n",
    "    print(\"precision_micro: \", precision_micro)\n",
    "    print(\"recall_micro: \", recall_micro)\n",
    "    print(\"f1_score_micro: \", f1_score_micro)"
   ]
  },
  {
   "cell_type": "code",
   "execution_count": null,
   "metadata": {},
   "outputs": [],
   "source": [
    "classification_metrics(y_true, df_cleaned[\"c_score_1_rounded\"])"
   ]
  },
  {
   "cell_type": "code",
   "execution_count": null,
   "metadata": {},
   "outputs": [],
   "source": [
    "classification_metrics(y_true, df_cleaned[\"c_score_2_rounded\"])"
   ]
  },
  {
   "cell_type": "code",
   "execution_count": null,
   "metadata": {},
   "outputs": [],
   "source": [
    "classification_metrics(y_true, df_cleaned[\"c_score_3_rounded\"])"
   ]
  },
  {
   "cell_type": "code",
   "execution_count": null,
   "metadata": {},
   "outputs": [],
   "source": [
    "classification_metrics(y_true, df_cleaned[\"c_score_4_rounded\"])"
   ]
  },
  {
   "cell_type": "code",
   "execution_count": null,
   "metadata": {},
   "outputs": [],
   "source": [
    "classification_metrics(y_true, df_cleaned[\"Sentiment_Mean_Score_rounded\"])"
   ]
  },
  {
   "cell_type": "code",
   "execution_count": null,
   "metadata": {},
   "outputs": [],
   "source": [
    "classification_metrics(y_true, df_cleaned[\"rating\"])"
   ]
  },
  {
   "cell_type": "code",
   "execution_count": null,
   "metadata": {},
   "outputs": [],
   "source": [
    "# call center summarization\n",
    "# call center müşteriye ilk ne diyelim\n",
    "\n"
   ]
  },
  {
   "cell_type": "code",
   "execution_count": null,
   "metadata": {},
   "outputs": [],
   "source": [
    "df_cleaned['USER_RATING_binary'] = np.where(df_cleaned['USER_RATING'] > 2.5, 1, 0)\n",
    "df_cleaned['c_score_1_rounded_binary'] = np.where(df_cleaned['c_score_1_rounded'] > 2.5, 1, 0)\n",
    "df_cleaned['c_score_2_rounded_binary'] = np.where(df_cleaned['c_score_2_rounded'] > 2.5, 1, 0)\n",
    "df_cleaned['c_score_3_rounded_binary'] = np.where(df_cleaned['c_score_3_rounded'] > 2.5, 1, 0)\n",
    "df_cleaned['c_score_4_rounded_binary'] = np.where(df_cleaned['c_score_4_rounded'] > 2.5, 1, 0)\n",
    "df_cleaned['Sentiment_Mean_Score_rounded_binary'] = np.where(df_cleaned['Sentiment_Mean_Score_rounded'] > 2.5, 1, 0)\n",
    "df_cleaned['rating_binary'] = np.where(df_cleaned['rating'] > 2.5, 1, 0)\n"
   ]
  },
  {
   "cell_type": "code",
   "execution_count": null,
   "metadata": {},
   "outputs": [],
   "source": [
    "y_true = df_cleaned[\"USER_RATING_binary\"]"
   ]
  },
  {
   "cell_type": "code",
   "execution_count": null,
   "metadata": {},
   "outputs": [],
   "source": [
    "classification_metrics(y_true, df_cleaned[\"c_score_1_rounded_binary\"])"
   ]
  },
  {
   "cell_type": "code",
   "execution_count": null,
   "metadata": {},
   "outputs": [],
   "source": [
    "classification_metrics(y_true, df_cleaned[\"c_score_2_rounded_binary\"])"
   ]
  },
  {
   "cell_type": "code",
   "execution_count": null,
   "metadata": {},
   "outputs": [],
   "source": [
    "classification_metrics(y_true, df_cleaned[\"c_score_3_rounded_binary\"])"
   ]
  },
  {
   "cell_type": "code",
   "execution_count": null,
   "metadata": {},
   "outputs": [],
   "source": [
    "classification_metrics(y_true, df_cleaned[\"c_score_4_rounded_binary\"])"
   ]
  },
  {
   "cell_type": "code",
   "execution_count": null,
   "metadata": {},
   "outputs": [],
   "source": [
    "classification_metrics(y_true, df_cleaned[\"Sentiment_Mean_Score_rounded_binary\"])"
   ]
  },
  {
   "cell_type": "code",
   "execution_count": null,
   "metadata": {},
   "outputs": [],
   "source": [
    "classification_metrics(y_true, df_cleaned[\"rating_binary\"])"
   ]
  }
 ],
 "metadata": {
  "kernelspec": {
   "display_name": "venv",
   "language": "python",
   "name": "python3"
  },
  "language_info": {
   "codemirror_mode": {
    "name": "ipython",
    "version": 3
   },
   "file_extension": ".py",
   "mimetype": "text/x-python",
   "name": "python",
   "nbconvert_exporter": "python",
   "pygments_lexer": "ipython3",
   "version": "3.11.5"
  }
 },
 "nbformat": 4,
 "nbformat_minor": 2
}
