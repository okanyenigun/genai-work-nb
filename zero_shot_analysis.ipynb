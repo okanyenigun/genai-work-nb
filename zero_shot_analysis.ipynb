{
 "cells": [
  {
   "cell_type": "code",
   "execution_count": 1,
   "metadata": {},
   "outputs": [],
   "source": [
    "import pandas as pd\n",
    "from util_funcs import match_zero_label_w_df"
   ]
  },
  {
   "cell_type": "code",
   "execution_count": 2,
   "metadata": {},
   "outputs": [],
   "source": [
    "LABELS = [\"install, update\", \"app performance\", \"user interface\", \"credit, credit cart\", \"call center, atm, branch\", \n",
    "          \"bank reputation\", \"money transfer, account\", \"error, login issue\", \"complaint\", \"praise\", \"question\", \"statement\"]\n"
   ]
  },
  {
   "cell_type": "code",
   "execution_count": 3,
   "metadata": {},
   "outputs": [],
   "source": [
    "#df = match_zero_label_w_df(\"zero_shot_new_labels.pkl\", \"ing_review_w_user_ratings.xlsx\", LABELS)\n",
    "#df.to_excel(\"ing_review_w_new_zero_labels.xlsx\",index=False)"
   ]
  },
  {
   "cell_type": "code",
   "execution_count": 4,
   "metadata": {},
   "outputs": [],
   "source": [
    "df = pd.read_excel(\"ing_review_w_new_zero_labels.xlsx\")"
   ]
  }
 ],
 "metadata": {
  "kernelspec": {
   "display_name": "venv",
   "language": "python",
   "name": "python3"
  },
  "language_info": {
   "codemirror_mode": {
    "name": "ipython",
    "version": 3
   },
   "file_extension": ".py",
   "mimetype": "text/x-python",
   "name": "python",
   "nbconvert_exporter": "python",
   "pygments_lexer": "ipython3",
   "version": "3.11.5"
  }
 },
 "nbformat": 4,
 "nbformat_minor": 2
}
