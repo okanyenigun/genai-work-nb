{
 "cells": [
  {
   "cell_type": "code",
   "execution_count": 18,
   "metadata": {},
   "outputs": [],
   "source": [
    "TEXT = \"\"\"\n",
    "The best banking application, every transaction is the fastest on mobile. They cause you a lot of losses by exchanging gold in other banks. It shows instant in English and you freeze the price for 20 seconds.\n",
    "\"\"\"\n",
    "\n",
    "LABELS = [\"install, update\", \"app performance\", \"user interface\", \"credit, credit cart\", \"call center, atm, branch\", \"bank reputation\",\n",
    "          \"money transfer, account\", \"error, login issue\", \"complaint\", \"praise\", \"question\", \"statement\"]"
   ]
  },
  {
   "cell_type": "code",
   "execution_count": 6,
   "metadata": {},
   "outputs": [],
   "source": [
    "from transformers import pipeline"
   ]
  },
  {
   "cell_type": "code",
   "execution_count": 7,
   "metadata": {},
   "outputs": [],
   "source": [
    "models = [\"MoritzLaurer/DeBERTa-v3-base-mnli-fever-anli\",\n",
    "          \"MoritzLaurer/DeBERTa-v3-large-mnli-fever-anli-ling-wanli\",\n",
    "             \"facebook/bart-large-mnli\",\n",
    "             \"MoritzLaurer/multilingual-MiniLMv2-L6-mnli-xnli\"]"
   ]
  },
  {
   "cell_type": "code",
   "execution_count": 19,
   "metadata": {},
   "outputs": [
    {
     "name": "stdout",
     "output_type": "stream",
     "text": [
      "{'sequence': '\\nThe best banking application, every transaction is the fastest on mobile. They cause you a lot of losses by exchanging gold in other banks. It shows instant in English and you freeze the price for 20 seconds.\\n', 'labels': ['praise', 'app performance', 'user interface', 'money transfer, account', 'bank reputation', 'statement', 'credit, credit cart', 'question', 'install, update', 'complaint', 'error, login issue', 'call center, atm, branch'], 'scores': [0.9800968170166016, 0.9631492495536804, 0.7166485786437988, 0.5411187410354614, 0.5194617509841919, 0.35161706805229187, 0.23386617004871368, 0.22405430674552917, 0.13756057620048523, 0.063733771443367, 0.00818928238004446, 0.00029662676388397813]}\n",
      "\n",
      "['praise', 'app performance', 'user interface', 'money transfer, account', 'bank reputation', 'statement', 'credit, credit cart', 'question', 'install, update', 'complaint', 'error, login issue', 'call center, atm, branch']\n",
      "[0.9800968170166016, 0.9631492495536804, 0.7166485786437988, 0.5411187410354614, 0.5194617509841919, 0.35161706805229187, 0.23386617004871368, 0.22405430674552917, 0.13756057620048523, 0.063733771443367, 0.00818928238004446, 0.00029662676388397813]\n"
     ]
    }
   ],
   "source": [
    "# model = \"MoritzLaurer/deberta-v3-large-zeroshot-v1.1-all-33\"\n",
    "model = \"facebook/bart-large-mnli\"\n",
    "pipe = pipeline(\"zero-shot-classification\", model=model)\n",
    "\n",
    "output = pipe(TEXT, LABELS, multi_label=True)\n",
    "print(output)\n",
    "print()\n",
    "print(output[\"labels\"])\n",
    "print(output[\"scores\"])"
   ]
  },
  {
   "cell_type": "code",
   "execution_count": 5,
   "metadata": {},
   "outputs": [
    {
     "name": "stdout",
     "output_type": "stream",
     "text": [
      "28545\n"
     ]
    }
   ],
   "source": []
  },
  {
   "cell_type": "code",
   "execution_count": null,
   "metadata": {},
   "outputs": [],
   "source": []
  }
 ],
 "metadata": {
  "kernelspec": {
   "display_name": "venv",
   "language": "python",
   "name": "python3"
  },
  "language_info": {
   "codemirror_mode": {
    "name": "ipython",
    "version": 3
   },
   "file_extension": ".py",
   "mimetype": "text/x-python",
   "name": "python",
   "nbconvert_exporter": "python",
   "pygments_lexer": "ipython3",
   "version": "3.11.5"
  }
 },
 "nbformat": 4,
 "nbformat_minor": 2
}
