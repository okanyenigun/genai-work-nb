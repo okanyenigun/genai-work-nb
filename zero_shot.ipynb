{
 "cells": [
  {
   "cell_type": "code",
   "execution_count": 1,
   "metadata": {},
   "outputs": [],
   "source": [
    "TEXT = \"\"\"\n",
    "Bugün ing mobilden 2500 lira kredi başvurusu yaptım. Kredi onaylandı deniyor ama tekrar tekrar başvuru formu dolduruyorum. İng mobil yükleyin diye bir yazı geliyor yüklü olduğu halde tekrar yüklüyorum tekrar başvuru formu karşıma çıkıyor ve 50 defa aynı formu doldurdum 50 defa ing mobil yükledim.Komedi gibi sil baştan aynı işlemleri yapmaktan yıldım. Tamam vazgeçtim istemiyorum kredinizi.\n",
    "\"\"\"\n",
    "\n",
    "LABELS = [\"install, update\", \"app performance\", \"user interface\", \"credit, credit cart\", \"call center, atm, branch\", \"bank reputation\",\n",
    "          \"money transfer, account\", \"error, login issue\", \"complaint\", \"praise\", \"question\", \"statement\"]\n",
    "\n",
    "LABELS = [\"kurulum, güncelleme\", \"performans\", \"arayüz\", \"kredi, kredi kartı\", \"çağrı merkezi, atm, şube\", \"prestij\", \"para transferi, hesap\",\"hata\", \"şikayet\",\"övgü\",\"soru\",\"ifade\"]\n",
    "\n",
    "LABELS = [\"error\",\"performance\",\"ux\",\"pricing\",\"product\",\"atm\",\"declartive\",\"credit\",\"angry\",\"urgent\", \"not urgent\"]"
   ]
  },
  {
   "cell_type": "code",
   "execution_count": 2,
   "metadata": {},
   "outputs": [
    {
     "name": "stderr",
     "output_type": "stream",
     "text": [
      "/Users/okanyenigun/Desktop/codes/projects/genai_work/notebooks/venv/lib/python3.11/site-packages/tqdm/auto.py:21: TqdmWarning: IProgress not found. Please update jupyter and ipywidgets. See https://ipywidgets.readthedocs.io/en/stable/user_install.html\n",
      "  from .autonotebook import tqdm as notebook_tqdm\n"
     ]
    }
   ],
   "source": [
    "from transformers import pipeline"
   ]
  },
  {
   "cell_type": "code",
   "execution_count": 3,
   "metadata": {},
   "outputs": [],
   "source": [
    "models = [\"MoritzLaurer/DeBERTa-v3-base-mnli-fever-anli\",\n",
    "          \"MoritzLaurer/DeBERTa-v3-large-mnli-fever-anli-ling-wanli\",\n",
    "             \"facebook/bart-large-mnli\",\n",
    "             \"MoritzLaurer/multilingual-MiniLMv2-L6-mnli-xnli\"]"
   ]
  },
  {
   "cell_type": "code",
   "execution_count": 6,
   "metadata": {},
   "outputs": [
    {
     "name": "stdout",
     "output_type": "stream",
     "text": [
      "I gave 5 automatic payment orders on 12.10.2023, my bills have not been paid for 2 months, there is still no solution.🤔🤔🤔\n"
     ]
    }
   ],
   "source": [
    "import pandas as pd\n",
    "review = pd.read_excel(\"ing_review_w_new_zero_labels.xlsx\").loc[1,\"deep_translator\"]\n",
    "print(review)"
   ]
  },
  {
   "cell_type": "code",
   "execution_count": 10,
   "metadata": {},
   "outputs": [
    {
     "name": "stdout",
     "output_type": "stream",
     "text": [
      "{'sequence': 'I gave 5 automatic payment orders on 12.10.2023, my bills have not been paid for 2 months, there is still no solution.🤔🤔🤔', 'labels': ['ux', 'error', 'performance', 'product', 'pricing'], 'scores': [0.570683479309082, 0.42503592371940613, 0.2641714811325073, 0.11764051765203476, 0.061063412576913834]}\n",
      "\n",
      "['ux', 'error', 'performance', 'product', 'pricing']\n",
      "[0.570683479309082, 0.42503592371940613, 0.2641714811325073, 0.11764051765203476, 0.061063412576913834]\n"
     ]
    }
   ],
   "source": [
    "# model = \"MoritzLaurer/deberta-v3-large-zeroshot-v1.1-all-33\"\n",
    "# model = \"Trendyol/Trendyol-LLM-7b-chat-v0.1\"\n",
    "model = \"facebook/bart-large-mnli\"\n",
    "LABELS = [\"error\",\"performance\",\"ux\",\"pricing\",\"product\"]\n",
    "\n",
    "pipe = pipeline(\"zero-shot-classification\", model=model)\n",
    "\n",
    "output = pipe(review, LABELS, multi_label=True)\n",
    "print(output)\n",
    "print()\n",
    "print(output[\"labels\"])\n",
    "print(output[\"scores\"])"
   ]
  },
  {
   "cell_type": "code",
   "execution_count": null,
   "metadata": {},
   "outputs": [],
   "source": [
    "{'sequence': 'I gave 5 automatic payment orders on 12.10.2023, my bills have not been paid for 2 months, there is still no solution.🤔🤔🤔', 'labels': ['angry', 'urgent', 'declartive', 'ux', 'error', 'atm', 'performance', 'credit', 'product', 'pricing', 'not urgent'], 'scores': [0.9879395961761475, 0.9784729480743408, 0.7027089595794678, 0.570683479309082, 0.42503592371940613, 0.41850823163986206, 0.2641714811325073, 0.13630643486976624, 0.11764051765203476, 0.061063412576913834, 0.007176916114985943]}\n",
    "\n",
    "['angry', 'urgent', 'declartive', 'ux', 'error', 'atm', 'performance', 'credit', 'product', 'pricing', 'not urgent']\n",
    "[0.9879395961761475, 0.9784729480743408, 0.7027089595794678, 0.570683479309082, 0.42503592371940613, 0.41850823163986206, 0.2641714811325073, 0.13630643486976624, 0.11764051765203476, 0.061063412576913834, 0.007176916114985943]\n"
   ]
  },
  {
   "cell_type": "code",
   "execution_count": null,
   "metadata": {},
   "outputs": [],
   "source": []
  }
 ],
 "metadata": {
  "kernelspec": {
   "display_name": "venv",
   "language": "python",
   "name": "python3"
  },
  "language_info": {
   "codemirror_mode": {
    "name": "ipython",
    "version": 3
   },
   "file_extension": ".py",
   "mimetype": "text/x-python",
   "name": "python",
   "nbconvert_exporter": "python",
   "pygments_lexer": "ipython3",
   "version": "3.11.5"
  }
 },
 "nbformat": 4,
 "nbformat_minor": 2
}
